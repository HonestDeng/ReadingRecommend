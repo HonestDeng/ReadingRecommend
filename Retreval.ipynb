{
 "cells": [
  {
   "cell_type": "markdown",
   "source": [
    "## Document Loader\n",
    "常用的Document Loader支持的格式\n",
    "1. csv\n",
    "2. file directory\n",
    "3. html\n",
    "4. json\n",
    "5. markdown\n",
    "6. pdf"
   ],
   "metadata": {
    "collapsed": false
   }
  },
  {
   "cell_type": "code",
   "execution_count": 1,
   "outputs": [],
   "source": [
    "from langchain_community.document_loaders import TextLoader"
   ],
   "metadata": {
    "collapsed": false
   }
  },
  {
   "cell_type": "code",
   "execution_count": 2,
   "outputs": [
    {
     "data": {
      "text/plain": "[Document(page_content='#!/usr/bin/env python\\nfrom typing import List\\n\\nfrom fastapi import FastAPI\\nfrom langchain_core.prompts import ChatPromptTemplate\\nfrom langchain_openai import ChatOpenAI\\nfrom langchain_community.document_loaders import WebBaseLoader\\nfrom langchain_openai import OpenAIEmbeddings\\nfrom langchain_community.vectorstores import FAISS\\nfrom langchain_text_splitters import RecursiveCharacterTextSplitter\\nfrom langchain.tools.retriever import create_retriever_tool\\nfrom langchain_community.tools.tavily_search import TavilySearchResults\\nfrom langchain_openai import ChatOpenAI\\nfrom langchain import hub\\nfrom langchain.agents import create_openai_functions_agent\\nfrom langchain.agents import AgentExecutor\\nfrom langchain.pydantic_v1 import BaseModel, Field\\nfrom langchain_core.messages import BaseMessage\\nfrom langserve import add_routes\\n\\n# 1. Load Retriever\\nloader = WebBaseLoader(\"https://docs.smith.langchain.com/user_guide\")\\ndocs = loader.load()\\ntext_splitter = RecursiveCharacterTextSplitter()\\ndocuments = text_splitter.split_documents(docs)\\nembeddings = OpenAIEmbeddings()\\nvector = FAISS.from_documents(documents, embeddings)\\nretriever = vector.as_retriever()\\n\\n# 2. Create Tools\\nretriever_tool = create_retriever_tool(\\n    retriever,\\n    \"langsmith_search\",\\n    \"Search for information about LangSmith. For any questions about LangSmith, you must use this tool!\",\\n)\\n#search = TavilySearchResults(tavily_api_key=\"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\")\\ntools = [retriever_tool]\\n\\n\\n# 3. Create Agent\\nprompt = hub.pull(\"hwchase17/openai-functions-agent\")\\nllm = ChatOpenAI(model=\"gpt-3.5-turbo\", temperature=0)\\nagent = create_openai_functions_agent(llm, tools, prompt)\\nagent_executor = AgentExecutor(agent=agent, tools=tools, verbose=True)\\n\\n\\n# 4. App definition\\napp = FastAPI(\\n  title=\"LangChain Server\",\\n  version=\"1.0\",\\n  description=\"A simple API server using LangChain\\'s Runnable interfaces\",\\n)\\n\\n# 5. Adding chain route\\n\\n# We need to add these input/output schemas because the current AgentExecutor\\n# is lacking in schemas.\\n\\nclass Input(BaseModel):\\n    input: str\\n    chat_history: List[BaseMessage] = Field(\\n        ...,\\n        extra={\"widget\": {\"type\": \"chat\", \"input\": \"location\"}},\\n    )\\n\\n\\nclass Output(BaseModel):\\n    output: str\\n\\nadd_routes(\\n    app,\\n    agent_executor.with_types(input_type=Input, output_type=Output),\\n    path=\"/agent\",\\n)\\n\\nif __name__ == \"__main__\":\\n    import uvicorn\\n\\n    uvicorn.run(app, host=\"localhost\", port=8000)', metadata={'source': './server.py'})]"
     },
     "execution_count": 2,
     "metadata": {},
     "output_type": "execute_result"
    }
   ],
   "source": [
    "loader = TextLoader(\"./server.py\")\n",
    "loader.load()"
   ],
   "metadata": {
    "collapsed": false
   }
  },
  {
   "cell_type": "markdown",
   "source": [
    "## Text Splitters"
   ],
   "metadata": {
    "collapsed": false
   }
  },
  {
   "cell_type": "code",
   "execution_count": null,
   "outputs": [],
   "source": [],
   "metadata": {
    "collapsed": false
   }
  }
 ],
 "metadata": {
  "kernelspec": {
   "display_name": "Python 3",
   "language": "python",
   "name": "python3"
  },
  "language_info": {
   "codemirror_mode": {
    "name": "ipython",
    "version": 2
   },
   "file_extension": ".py",
   "mimetype": "text/x-python",
   "name": "python",
   "nbconvert_exporter": "python",
   "pygments_lexer": "ipython2",
   "version": "2.7.6"
  }
 },
 "nbformat": 4,
 "nbformat_minor": 0
}
